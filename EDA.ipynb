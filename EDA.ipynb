{
 "cells": [
  {
   "cell_type": "code",
   "execution_count": null,
   "id": "8cced7af-37ac-429a-8529-455254c7ec57",
   "metadata": {},
   "outputs": [],
   "source": [
    "import pandas as pd\n",
    "import numpy as np\n",
    "import matplotlib.pyplot as plt\n",
    "import seaborn as sns\n",
    "import plotly.express as px\n",
    "import plotly.graph_objects as go\n",
    "from plotly.subplots import make_subplots\n",
    "import warnings\n",
    "warnings.filterwarnings('ignore')\n",
    "from sklearn.cluster import KMeans\n",
    "from sklearn.preprocessing import StandardScaler\n",
    "from sklearn.metrics import silhouette_score"
   ]
  },
  {
   "cell_type": "code",
   "execution_count": null,
   "id": "dc4eb05e-bf56-428b-ba6b-2e654dd61fc7",
   "metadata": {},
   "outputs": [],
   "source": [
    "df = pd.read_csv(r\"C:\\Users\\ashis\\Dropbox\\My PC (LAPTOP-UG4LH8KN)\\Desktop\\Akash\\creditcard_marketing_dataset.csv\")"
   ]
  },
  {
   "cell_type": "code",
   "execution_count": null,
   "id": "c8495dde-17fb-4a9f-9151-257f13ce0a1f",
   "metadata": {},
   "outputs": [],
   "source": [
    "sns.histplot(df['ROI'], kde=True, color='blue')\n",
    "plt.title('Distribution of ROI Across Campaigns')\n",
    "plt.xlabel('ROI')\n",
    "plt.ylabel('Frequency')\n",
    "plt.show()"
   ]
  },
  {
   "cell_type": "code",
   "execution_count": null,
   "id": "0cbf9c70-39a3-4971-85c4-d02c17de5384",
   "metadata": {},
   "outputs": [],
   "source": [
    "sns.boxplot(x=df['CTR'], color='orange')\n",
    "plt.title('Boxplot of Click-Through Rate (CTR)')\n",
    "plt.xlabel('CTR')\n",
    "plt.show()"
   ]
  },
  {
   "cell_type": "markdown",
   "id": "4ca26240-4a1e-449d-9c99-44f354a2dae5",
   "metadata": {},
   "source": [
    "Based on the boxplot of the Click-Through Rate (CTR) data:\n",
    "\n",
    "- The median CTR appears to be between 5 to 6, as indicated by the center line in the box.\n",
    "- The box spans a CTR range of around 4 to 7, suggesting the middle 50% of the data falls within this range.\n",
    "- The whiskers extend to a minimum CTR around 3 and a maximum around 8, indicating the full range of observed CTR values.\n",
    "- The lack of any outliers or data points beyond the whiskers suggests the CTR data is relatively compact and does not have any extreme outliers.\n",
    "\n",
    "These insights could be useful for benchmarking performance and setting realistic targets for the credit card marketing analytics project. The centered median and compact distribution indicate the CTR metric is fairly stable, which may help in forecasting and optimizing marketing campaigns."
   ]
  },
  {
   "cell_type": "code",
   "execution_count": null,
   "id": "f7f1b06b-f4df-4f33-b78d-897a64423948",
   "metadata": {},
   "outputs": [],
   "source": [
    "# Distribution of Campaign Spend\n",
    "fig = px.histogram(df, x='spend', color_discrete_sequence=['green'], \n",
    "    marginal=\"violin\", log_x=True)\n",
    "# Update layout to add title and axis labels\n",
    "fig.update_layout(title='Distribution of Campaign Spend',xaxis_title='Spend',yaxis_title='Frequency',template='plotly_white')\n",
    "fig.show()"
   ]
  },
  {
   "cell_type": "markdown",
   "id": "e343ecb3-d10f-4eb5-b81a-f665e1a4e347",
   "metadata": {},
   "source": [
    "1. The distribution appears right-skewed, with a large number of campaigns spending less than USD 100k, and fewer campaigns spending more. This suggests the majority of campaigns have relatively lower budgets.\n",
    "\n",
    "2. There are spikes in spend around USD 100k and USD 1M, indicating these may be common or preferred spend levels for certain marketing initiatives or campaigns.\n",
    "\n",
    "3. The overall range of spend is quite wide, from around USD 40k to over USD 1.5M, indicating a diverse set of campaign budgets and strategies being employed."
   ]
  },
  {
   "cell_type": "code",
   "execution_count": null,
   "id": "0bc553b4-83c2-4bcc-abde-f27066979a34",
   "metadata": {},
   "outputs": [],
   "source": [
    "sns.kdeplot(df['revenue_generated'], fill=True, color='purple')\n",
    "plt.title('KDE Plot of Revenue Generated')\n",
    "plt.xlabel('Revenue')\n",
    "plt.show()"
   ]
  },
  {
   "cell_type": "markdown",
   "id": "dafd0789-72cf-4fa5-81d4-7c0d2a203829",
   "metadata": {},
   "source": [
    "Based on the KDE (Kernel Density Estimation) plot of revenue generated :\n",
    "\n",
    "1. The plot exhibits a highly right-skewed distribution, indicating that the majority of revenue generated is concentrated at the lower end of the scale, with a small number of campaigns driving very high revenue.\n",
    "\n",
    "2. The prominent peak around the 2 revenue mark suggests there is a common, successful revenue-generating range that many campaigns tend to cluster around. This could represent a benchmark or target to aim for in optimizing marketing strategies.\n",
    "\n",
    "3. The long tail extending to the right shows the potential for some campaigns to generate significantly higher revenue, up to around the 4-5 range. Understanding the drivers behind these high-performing outliers could provide valuable insights.\n",
    "\n",
    "4. The rapid drop-off in density after the peak around 2 revenue suggests there may be challenges in consistently achieving substantially higher revenue, highlighting the importance of identifying and replicating the factors contributing to these top-performing campaigns.\n",
    "\n",
    "These insights could inform about various aspects, such as setting realistic revenue targets, identifying high-potential strategies, and understanding the potential variance in outcomes across campaigns. Carefully analyzing this distribution can provide valuable guidance for optimizing the allocation of marketing resources and improving the overall performance of the credit card program."
   ]
  },
  {
   "cell_type": "code",
   "execution_count": null,
   "id": "5e28fa6c-0868-4226-914d-2b776192d2ba",
   "metadata": {},
   "outputs": [],
   "source": [
    "campaign_durations = (pd.to_datetime(df['end_date']) - pd.to_datetime(df['start_date'])).dt.days\n",
    "sns.histplot(campaign_durations, bins=10, color='cyan')\n",
    "plt.title('Campaign Duration Distribution')\n",
    "plt.xlabel('Duration (Days)')\n",
    "plt.ylabel('Number of Campaigns')\n",
    "plt.show()"
   ]
  },
  {
   "cell_type": "markdown",
   "id": "56769c47-7eee-4708-939d-0e09c3f2ee08",
   "metadata": {},
   "source": [
    "The most common campaign duration is around 20-40 days, with a large peak in the distribution around this range. This suggests that many campaigns are designed to run for about a month.\n",
    "There is a significant drop-off in the number of campaigns after 50 days. Very few campaigns exceed 100 days in duration. This indicates that longer-running campaigns are less common.\n",
    "The distribution is skewed, with a long tail of shorter campaign durations. This implies that while the majority of campaigns fall in the 20-60 day range, there are still a sizable number of much shorter campaigns as well."
   ]
  },
  {
   "cell_type": "code",
   "execution_count": null,
   "id": "593da96c-5ea9-4749-86c8-2921c2d2451a",
   "metadata": {},
   "outputs": [],
   "source": [
    "sns.histplot(df['impressions'], kde=True, color='darkblue', log_scale=True)\n",
    "plt.title('Distribution of Campaign Impressions')\n",
    "plt.xlabel('Impressions')\n",
    "plt.ylabel('Frequency')\n",
    "plt.show()"
   ]
  },
  {
   "cell_type": "markdown",
   "id": "006b0f54-db57-4e92-8ef2-9cb317a5b26d",
   "metadata": {},
   "source": [
    "1. The distribution appears highly variable, with a few very high impression counts and many lower impression counts. This suggests a diverse set of campaigns and strategies being employed.\n",
    "\n",
    "2. There are clear spikes in impressions around certain values, such as 1M and 2.5M impressions. These could represent common performance targets or thresholds for campaigns.\n",
    "\n",
    "3. The long right tail of the distribution indicates some campaigns are able to generate very high impression volumes, potentially through effective targeting, ad placement, or other optimizations.\n",
    "\n",
    "4. Understanding the factors that drive high impression campaigns versus lower impression campaigns could provide insights to improve the efficiency and effectiveness of future credit card marketing efforts."
   ]
  },
  {
   "cell_type": "code",
   "execution_count": null,
   "id": "5172517f-aaaf-4a0c-9deb-e9f5bc709ad0",
   "metadata": {},
   "outputs": [],
   "source": [
    "# Group data by start_date and calculate total spend\n",
    "time_data = df.groupby('start_date')['spend'].sum().reset_index()\n",
    "fig = px.line(time_data,x='start_date',y='spend',title='Spend Over Time',\n",
    "    labels={'start_date': 'Start Date', 'spend': 'Total Spend'},\n",
    "    color_discrete_sequence=['darkorange'])\n",
    "# Layout\n",
    "fig.update_layout(\n",
    "    xaxis_title='Start Date',\n",
    "    yaxis_title='Total Spend',\n",
    "    xaxis_tickangle=45,\n",
    "    template='plotly_white'\n",
    ")\n",
    "fig.show()"
   ]
  },
  {
   "cell_type": "markdown",
   "id": "fecd42f5-3dff-4cbc-96bf-6f1a568a239e",
   "metadata": {},
   "source": [
    "1. The spend shows significant fluctuations over time, with periodic spikes and dips. This suggests that there may be seasonality or other cyclical patterns in consumer spending behavior that could impact the effectiveness of marketing campaigns.\n",
    "\n",
    "2. The overall trend appears to be increasing, with the most recent data points showing the highest total spend. This could indicate that the marketing efforts are having a positive impact on driving increased credit card usage and spending."
   ]
  },
  {
   "cell_type": "code",
   "execution_count": null,
   "id": "c2aa8632-2168-4a6e-8b4c-8c236138dedf",
   "metadata": {},
   "outputs": [],
   "source": [
    "from matplotlib.ticker import PercentFormatter\n",
    "import textwrap\n",
    "\n",
    "# Group and sort campaign revenue\n",
    "campaign_revenue = (\n",
    "    df.groupby('campaign_name')['revenue_generated']\n",
    "    .sum()\n",
    "    .sort_values(ascending=False)\n",
    ")\n",
    "\n",
    "# top 10 campaigns\n",
    "top_campaigns = campaign_revenue.head(10)\n",
    "cumulative_revenue = top_campaigns.cumsum() / top_campaigns.sum()\n",
    "\n",
    "wrapped_labels = [\n",
    "    '\\n'.join(textwrap.wrap(name, width=10)) for name in top_campaigns.index\n",
    "]\n",
    "\n",
    "# Create the chart\n",
    "fig, ax1 = plt.subplots(figsize=(10, 6))  # Increase figure size\n",
    "ax1.bar(wrapped_labels, top_campaigns, color='skyblue')\n",
    "ax2 = ax1.twinx()\n",
    "ax2.plot(wrapped_labels, cumulative_revenue, color='orange', marker='o', linestyle='--')\n",
    "ax2.axhline(0.8, color='red', linestyle='--', label='80% Threshold')\n",
    "ax2.yaxis.set_major_formatter(PercentFormatter(1))\n",
    "\n",
    "ax1.set_xlabel('Campaign Name')\n",
    "ax1.set_ylabel('Revenue')\n",
    "ax2.set_ylabel('Cumulative Percentage')\n",
    "plt.title('Pareto Analysis of Campaign Revenue')\n",
    "\n",
    "plt.xticks(rotation=45, ha='right') \n",
    "plt.legend(loc='upper left')\n",
    "plt.tight_layout() \n",
    "plt.show()"
   ]
  },
  {
   "cell_type": "markdown",
   "id": "9fa07ebe-c9e9-4787-9220-9d101ce2b10c",
   "metadata": {},
   "source": [
    "1. The 80/20 rule: The 80/20 threshold line shows that 80% of the revenue is generated from around the top 20% of the campaigns. This suggests the company should focus its efforts on the most profitable campaigns.\n",
    "\n",
    "2. Campaign performance: The chart shows a wide range of revenue generated by the different campaigns. \"Holiday Rush Deals\" is the highest revenue driver, while \"Entreprener Excellence Rewards\" is 10th. Understanding the drivers behind the top and bottom performers can inform future campaign planning.\n",
    "\n",
    "3. Growth opportunities: Campaigns like \"Digital Rewards\" and \"Super Saver Week\" show strong revenue growth, indicating potential for expansion in those areas.\n",
    "\n",
    "4. Incremental improvements: Even smaller campaigns like \"Home Impro Big Ticket Savings\" and \"Fall Rewards Spectacular\" contribute meaningful revenue. Identifying ways to enhance these can lead to incremental gains."
   ]
  },
  {
   "cell_type": "markdown",
   "id": "9b721459-aafb-4455-a494-1ffd574872a0",
   "metadata": {},
   "source": [
    "## Bivariate Analysis"
   ]
  },
  {
   "cell_type": "code",
   "execution_count": null,
   "id": "65799795-ecba-4c49-96af-62c03205581c",
   "metadata": {},
   "outputs": [],
   "source": [
    "# Revenue vs Spend by Campaign\n",
    "fig = px.scatter(df,x='spend',y='revenue_generated',color='campaign_name',size='conversions',hover_data=['campaign_name', 'ROI'],\n",
    "                 title='Revenue vs Spend by Campaign')\n",
    "fig.update_traces(marker=dict(opacity=0.7, line=dict(width=0.5, color='DarkSlateGrey')))\n",
    "fig.show()"
   ]
  },
  {
   "cell_type": "markdown",
   "id": "3a24a96d-6cc2-4d1c-a972-407867405943",
   "metadata": {},
   "source": [
    "1. **Revenue Distribution**: The revenue generated varies significantly across different campaigns. The \"Mid-Year Madness\" campaign appears to be the most profitable, generating the highest revenue, while others like \"Student Card Benefits\" and \"Streaming Service Offers\" seem to have lower revenue contributions.\n",
    "\n",
    "2. **Spending Efficiency**: The expenditure for each campaign is not detailed, but comparing the revenue to the implied spend (0.2M to 1M), it's clear that some campaigns are more cost-effective than others. For instance, if \"Mid-Year Madness\" has a higher spend but also significantly higher revenue, it might still be a worthwhile investment.\n",
    "\n",
    "3. **Campaign Effectiveness**: Campaigns like \"Luxury Card Exclusive Offer\" and \"Adventure Card Offers\" show moderate revenue generation. These campaigns might need optimization to improve their ROI, possibly through better targeting or enhanced offers.\n",
    "\n",
    "4. **Low-Performing Campaigns**: \"Student Card Benefits\" and \"Streaming Service Offers\" have the lowest revenue. This could indicate that the target audience for these campaigns is either not responding well or that the offers are not compelling enough. Re-evaluating the strategy for these segments could be beneficial.\n",
    "\n",
    "5. **Seasonal Trends**: Campaigns like \"Spring Break Bonanza\" and \"Holiday Rush Deals\" might be seasonal, which could explain their performance. Understanding the timing and consumer behavior during these periods can help in planning future campaigns more effectively.\n",
    "\n",
    "6. **Digital Focus**: The \"Digital Deluxe Deals\" campaign, which might be focused on digital channels, shows moderate success. This could suggest that digital marketing efforts are effective but may require further investment or refinement to maximize returns."
   ]
  },
  {
   "cell_type": "code",
   "execution_count": null,
   "id": "d3a5542d-8949-4a18-9ae2-f4f7988520b8",
   "metadata": {},
   "outputs": [],
   "source": [
    "# Conversions by Channel\n",
    "channel_conversions = df.groupby('channel')['conversions'].sum().reset_index()\n",
    "fig = px.bar(channel_conversions,x='channel',y='conversions',color='channel',\n",
    "    title='Conversions by Channel',text='conversions')\n",
    "fig.update_traces(texttemplate='%{text:.2s}', textposition='outside')\n",
    "fig.update_layout(xaxis_title='Channel', yaxis_title='Total Conversions', showlegend=False)\n",
    "fig.show()"
   ]
  },
  {
   "cell_type": "markdown",
   "id": "2a39215d-dc81-4929-beba-ee2d2686e681",
   "metadata": {},
   "source": [
    "1. **Channel Performance**: The total conversions vary across different channels. Facebook and Google Ads appear to be the most effective, with 22M and 25M conversions respectively. This suggests that these platforms are crucial for reaching and converting potential customers.\n",
    "\n",
    "2. **Affiliate Marketing**: Affiliate marketing shows a significant contribution, with 22M conversions. This indicates that partnerships and affiliate networks are valuable for driving conversions and should be maintained or expanded.\n",
    "\n",
    "3. **Social Media Impact**: Instagram and Twitter also contribute to conversions, with 18M and 29M respectively. This highlights the importance of social media presence and engagement in the marketing strategy.\n",
    "\n",
    "4. **TV Advertising**: TV has 26M conversions, indicating that traditional media still plays a significant role in reaching a broad audience and driving conversions."
   ]
  },
  {
   "cell_type": "code",
   "execution_count": null,
   "id": "2315f315-dd7f-4292-99ba-669d43dcb380",
   "metadata": {},
   "outputs": [],
   "source": [
    "# Channel Performance: Revenue vs ROI\n",
    "channel_data = df.groupby('channel').agg({'revenue_generated': 'sum','ROI': 'mean','spend': 'sum'}).reset_index()\n",
    "fig = px.scatter(channel_data,x='revenue_generated',y='ROI',size='spend',color='channel',\n",
    "    title='Channel Performance: Revenue vs ROI',\n",
    "    hover_data=['channel', 'spend'])\n",
    "fig.show()"
   ]
  },
  {
   "cell_type": "markdown",
   "id": "6dcdb0f6-0e59-4e0f-b160-13783622163c",
   "metadata": {},
   "source": [
    "1. **Revenue and ROI Correlation**: The chart likely shows the relationship between revenue generated and the return on investment (ROI) for each channel. Channels with higher revenue and ROI are more efficient and should be prioritized.\n",
    "\n",
    "2. **High-Performing Channels**: Channels like Facebook and Google Ads are expected to show strong performance in both revenue and ROI, indicating they are highly effective for credit card marketing campaigns.\n",
    "\n",
    "3. **Affiliate Marketing**: If Affiliate Marketing shows a good balance of revenue and ROI, it suggests that partnerships and affiliate networks are valuable and should be maintained or expanded.\n",
    "\n",
    "4. **Email Marketing**: Email might show moderate performance. This channel can be cost-effective and should be optimized for better engagement and conversion rates.\n",
    "\n",
    "5. **Social Media Channels**: Instagram and Twitter may show varying levels of performance. Their effectiveness can depend on the target audience and the type of content shared. Continuous optimization of social media strategies is essential.\n",
    "\n",
    "6. **TV Advertising**: TV might show significant revenue but potentially lower ROI due to higher costs. This indicates that while TV can reach a broad audience, it may require careful budgeting and targeting to improve ROI."
   ]
  },
  {
   "cell_type": "code",
   "execution_count": null,
   "id": "fc6cd635-7cfd-4517-a32a-090f66cfe673",
   "metadata": {},
   "outputs": [],
   "source": [
    "# CTR vs Campaign Duration\n",
    "fig = px.scatter(df,x='campaign_duration',y='CTR',size='impressions',color='campaign_name',hover_data=['start_date', 'end_date'],\n",
    "    title='CTR vs Campaign Duration')\n",
    "fig.show()"
   ]
  },
  {
   "cell_type": "markdown",
   "id": "a0f7d1fb-d5c8-4f87-9753-f368c75c246e",
   "metadata": {},
   "source": [
    "1. **CTR Performance**: The Click-Through Rate (CTR) varies across different campaigns. Campaigns like \"Mid-Year Madness\" and \"Luxury Card Exclusive Offer\" likely show higher CTRs, indicating more effective engagement with the target audience.\n",
    "\n",
    "2. **Campaign Duration Impact**: The relationship between CTR and campaign duration suggests that longer campaigns do not necessarily result in higher CTRs. Some shorter campaigns might be more effective in capturing audience interest quickly.\n",
    "\n",
    "3. **High-Performing Campaigns**: Campaigns with higher CTRs, such as \"Mid-Year Madness,\" should be analyzed for best practices and strategies that can be replicated in other campaigns to improve overall performance.\n",
    "\n",
    "4. **Low-Performing Campaigns**: Campaigns like \"Student Card Benefits\" and \"Streaming Service Offers\" may have lower CTRs. This could indicate a need for better targeting, more compelling offers, or improved creative content to enhance engagement.\n",
    "\n",
    "5. **Seasonal Campaigns**: Seasonal campaigns like \"Spring Break Bonanza\" and \"Holiday Rush Deals\" might show varying CTRs based on the timing and relevance of the offers. Understanding seasonal trends can help in planning more effective campaigns."
   ]
  },
  {
   "cell_type": "code",
   "execution_count": null,
   "id": "4aa3d1f9-4883-4bca-9932-9cbd020e6234",
   "metadata": {},
   "outputs": [],
   "source": [
    "# Acquisition Cost vs. Revenue by Channel\n",
    "df['CAC'] = df['spend'] / df['conversions']\n",
    "\n",
    "fig = px.scatter(df,x='CAC',y='revenue_generated',size='conversions',color='channel',hover_data=['campaign_name', 'spend', 'impressions'],\n",
    "    title='Acquisition Cost vs. Revenue by Channel',\n",
    "    labels={'CAC': 'Customer Acquisition Cost', 'revenue_generated': 'Revenue Generated'})\n",
    "fig.update_traces(marker=dict(opacity=0.7, line=dict(width=1, color='DarkSlateGrey')))\n",
    "fig.update_layout(title_font_size=18, legend_title='Channel')\n",
    "fig.show()"
   ]
  },
  {
   "cell_type": "markdown",
   "id": "75a2ce5c-0666-4392-94f4-56809ae05044",
   "metadata": {},
   "source": [
    "1. **Revenue by Channel**: The revenue generated varies across different channels. Channels like Facebook, Google Ads, and Affiliate Marketing are likely to be top performers, contributing significantly to overall revenue.\n",
    "\n",
    "2. **Customer Acquisition Cost (CAC)**: Channels with high revenue but low CAC are more cost-effective and should be prioritized.\n",
    "\n",
    "3. **High-Performing Channels**: Facebook and Google Ads are expected to show strong revenue generation, indicating their effectiveness in reaching and converting potential customers.\n",
    "\n",
    "4. **Affiliate Marketing**: If Affiliate Marketing shows substantial revenue, it suggests that partnerships and affiliate networks are valuable and should be maintained or expanded.\n",
    "\n",
    "5. **Email Marketing**: Email might show moderate revenue. This channel can be cost-effective and should be optimized for better engagement and conversion rates.\n",
    "\n",
    "6. **Social Media Channels**: Instagram and Twitter may show varying levels of revenue. Their effectiveness can depend on the target audience and the type of content shared. Continuous optimization of social media strategies is essential.\n",
    "\n",
    "7. **TV Advertising**: TV might show significant revenue but potentially higher CAC due to the costs associated with traditional media. This indicates that while TV can reach a broad audience, it may require careful budgeting and targeting to improve cost-effectiveness."
   ]
  },
  {
   "cell_type": "code",
   "execution_count": null,
   "id": "75068487-4aad-4414-a33e-09fa4bd3ca7e",
   "metadata": {},
   "outputs": [],
   "source": [
    "# Correlation Heatmap of Marketing Metrics\n",
    "correlation_matrix = df[['spend', 'impressions', 'CTR', 'conversions', 'revenue_generated']].corr()\n",
    "plt.figure(figsize=(10, 6))\n",
    "sns.heatmap(correlation_matrix, annot=True, cmap='coolwarm', fmt='.2f')\n",
    "plt.title('Correlation Heatmap of Marketing Metrics')\n",
    "plt.show()"
   ]
  },
  {
   "cell_type": "markdown",
   "id": "a9d14ddc-2968-4084-98cb-1c308444619d",
   "metadata": {},
   "source": [
    "1. **Spend and Revenue**: There is a strong positive correlation (0.82) between spend and revenue_generated. This indicates that increased marketing spend is generally associated with higher revenue, suggesting that investment in marketing efforts is effective.\n",
    "\n",
    "2. **Impressions and Conversions**: Impressions show a strong positive correlation (0.79) with conversions. This means that higher visibility of marketing campaigns leads to more conversions, emphasizing the importance of reach and frequency in marketing strategies.\n",
    "\n",
    "3. **CTR and Conversions**: The correlation between CTR and conversions is moderate (0.26). This suggests that while higher click-through rates contribute to conversions, other factors also play a significant role in driving conversions.\n",
    "\n",
    "4. **Spend and Impressions**: There is a positive correlation (0.62) between spend and impressions, indicating that higher spending leads to greater campaign visibility. This is expected as more budget allows for broader and more frequent ad placements.\n",
    "\n",
    "5. **Revenue and Conversions**: The correlation between revenue_generated and conversions is moderate (0.64). This implies that while conversions are important, they are not the sole driver of revenue, and other factors such as customer lifetime value and average transaction size also contribute."
   ]
  },
  {
   "cell_type": "code",
   "execution_count": null,
   "id": "759de410-40da-42a7-a4f0-f3f460762312",
   "metadata": {},
   "outputs": [],
   "source": [
    "# Distribution of Customer Lifetime Value (CLV) by Customer Segment and Gender\n",
    "fig = px.violin(df, x='customer_segment', y='CLV', color='gender', box=True,\n",
    "                title='Distribution of Customer Lifetime Value (CLV) by Customer Segment and Gender',\n",
    "                labels={'CLV': 'Customer Lifetime Value', 'customer_segment': 'Customer Segment'})\n",
    "fig.show()"
   ]
  },
  {
   "cell_type": "markdown",
   "id": "bb9b75af-1cfb-47b0-9fe7-ebd5941680d2",
   "metadata": {},
   "source": [
    "1. **Gender Differences in CLV**: The image shows that there are noticeable differences in Customer Lifetime Value (CLV) between male and female customers across various customer segments. This suggests that gender-based targeting could be an effective strategy for maximizing CLV.\n",
    "\n",
    "2. **Segment Performance**: The \"Luxury Spenders\" segment appears to have a higher CLV compared to \"Tech Savvy\" and \"Budget Conscious\" segments. This indicates that focusing on high-value customers in the Luxury Spenders segment could yield better returns.\n",
    "\n",
    "3. **Budget Conscious Segment**: The CLV for the Budget Conscious segment is relatively lower, which might imply that customers in this segment are less profitable. However, they could still be valuable if acquired at a lower cost.\n",
    "\n",
    "4. **Tech Savvy Segment**: The CLV for the Tech Savvy segment is moderate, suggesting that while they are not the highest spenders, they could still be a significant target group, especially if they are early adopters of new financial products.\n",
    "\n",
    "5. **Marketing Strategies**: The data suggests that tailored marketing strategies for each segment and gender could enhance customer retention and CLV. For instance, personalized offers for Luxury Spenders and cost-effective solutions for Budget Conscious customers."
   ]
  },
  {
   "cell_type": "code",
   "execution_count": null,
   "id": "33be76e1-5bb0-45bf-a1c0-028e7eb4ab0b",
   "metadata": {},
   "outputs": [],
   "source": [
    "# Revenue Over Time\n",
    "time_series_data = df.groupby('last_purchase_date')['revenue_generated'].sum().reset_index()\n",
    "\n",
    "fig = px.line(time_series_data, x='last_purchase_date', y='revenue_generated', \n",
    "              title='Revenue Over Time',\n",
    "              labels={'last_purchase_date': 'Date', 'revenue_generated': 'Revenue Generated'})\n",
    "fig.show()"
   ]
  },
  {
   "cell_type": "code",
   "execution_count": null,
   "id": "e517552a-21f7-4ea3-b0fd-57e8eef01ce1",
   "metadata": {},
   "outputs": [],
   "source": [
    "import plotly.express as px\n",
    "\n",
    "fig = px.treemap(df, path=['campaign_name', 'channel_name'], values='revenue_generated',\n",
    "                 color='revenue_generated', hover_data=['conversions'],\n",
    "                 title='Treemap: Revenue by Campaign and Channel')\n",
    "fig.show()"
   ]
  },
  {
   "cell_type": "markdown",
   "id": "945740f2-79ac-4e37-a5c1-6c7e5345a0b5",
   "metadata": {},
   "source": [
    "1. **Channel Performance**: The treemap indicates that different channels generate varying levels of revenue. TV appears to be a significant contributor, suggesting that traditional media still plays a crucial role in your marketing strategy.\n",
    "\n",
    "2. **Digital Channels**: Twitter and Email also contribute notably to revenue, highlighting the importance of digital channels in reaching and engaging customers. This underscores the need to maintain a strong online presence.\n",
    "\n",
    "3. **Campaign Effectiveness**: The revenue generated by different campaigns can help identify which strategies are most effective. For instance, campaigns run on TV and Twitter seem to be particularly successful, which could guide future budget allocations.\n",
    "\n",
    "4. **Customer Engagement**: The data suggests that certain channels, like Twitter and Email, are effective in driving customer engagement and conversions. This could be leveraged for targeted marketing efforts, especially for tech-savvy or younger demographics.\n",
    "\n",
    "5. **Cost Efficiency**: Analyzing the total cost versus revenue generated by each channel can help determine the cost efficiency of your campaigns. Channels with higher revenue relative to cost should be prioritized.\n",
    "\n",
    "6. **Integrated Marketing**: The varying performance across channels indicates the potential benefits of an integrated marketing approach, combining traditional and digital channels to maximize reach and impact."
   ]
  },
  {
   "cell_type": "code",
   "execution_count": null,
   "id": "33ba11f8-2cb1-42e9-a346-56af0f8eb60e",
   "metadata": {},
   "outputs": [],
   "source": [
    "fig = go.Figure(go.Indicator(\n",
    "    mode = \"gauge+number\",\n",
    "    value = df['revenue_generated'].mean(),\n",
    "    title = {'text': \"Average Revenue Generated\"},\n",
    "    gauge = {'axis': {'range': [None, df['revenue_generated'].max()]},\n",
    "             'steps' : [\n",
    "                 {'range': [0, df['revenue_generated'].mean()], 'color': \"lightgray\"},\n",
    "                 {'range': [df['revenue_generated'].mean(), df['revenue_generated'].max()], 'color': \"gray\"}],\n",
    "             'threshold' : {'line': {'color': \"red\", 'width': 4}, 'thickness': 0.75, 'value': df['revenue_generated'].mean()}}))\n",
    "\n",
    "fig.show()"
   ]
  },
  {
   "cell_type": "markdown",
   "id": "186add22-ef63-4e44-b392-bff969decd83",
   "metadata": {},
   "source": [
    "1. **Revenue Trends**: The average revenue generated varies significantly, with peaks at 7M and lows at 1M. This indicates fluctuations in revenue performance, which could be tied to specific campaigns, seasons, or market conditions.\n",
    "\n",
    "2. **Performance Benchmarking**: The average revenue of 2.7M provides a benchmark for evaluating the success of your marketing efforts. Campaigns or strategies that consistently generate revenue above this average should be analyzed for best practices.\n",
    "\n",
    "3. **High-Performing Periods**: The peak revenue of 7M suggests that there are periods or strategies that are particularly effective. Identifying the factors contributing to these high-performing periods can help replicate success in future campaigns.\n",
    "\n",
    "4. **Low-Performing Periods**: The low revenue of 1M highlights areas that may require improvement. Investigating the causes of these dips can help in making necessary adjustments to avoid similar outcomes in the future.\n",
    "\n",
    "5. **Customer Behavior**: The fluctuations in revenue could reflect changes in customer behavior or preferences. Analyzing these trends can provide insights into how to better align your offerings with customer needs and expectations."
   ]
  },
  {
   "cell_type": "code",
   "execution_count": null,
   "id": "10113b2d-22eb-4d0f-a525-4d958159f656",
   "metadata": {},
   "outputs": [],
   "source": [
    "# Revenue Distribution by Channel\n",
    "fig = px.pie(df, values='revenue_generated', names='channel_name',\n",
    "             title='Pie Chart: Revenue Distribution by Channel',\n",
    "             labels={'revenue_generated': 'Revenue Generated', 'channel_name': 'Channel Name'})\n",
    "fig.show()"
   ]
  },
  {
   "cell_type": "code",
   "execution_count": null,
   "id": "a6229c49-608f-40fd-99cc-25b48922dc8d",
   "metadata": {},
   "outputs": [],
   "source": [
    "# Calculate churn rate by customer segment\n",
    "churn_data = df.groupby(['customer_segment', 'customer_churn']).size().unstack(fill_value=0)\n",
    "churn_data['churn_rate'] = churn_data[1] / (churn_data[0] + churn_data[1])  # 1 = churned, 0 = not churned\n",
    "\n",
    "# Merge with average CLV for each segment\n",
    "clv_data = df.groupby('customer_segment')['CLV'].mean().reset_index()\n",
    "churn_data = churn_data.merge(clv_data, on='customer_segment')\n",
    "\n",
    "# Create a scatter plot\n",
    "fig = px.scatter(churn_data, x='churn_rate', y='CLV', color='customer_segment', size='CLV',\n",
    "                 title='Churn Rate vs. CLV by Customer Segment',\n",
    "                 labels={'churn_rate': 'Churn Rate', 'CLV': 'Customer Lifetime Value'},\n",
    "                 hover_name='customer_segment')\n",
    "fig.update_traces(marker=dict(line=dict(width=2, color='DarkSlateGrey')))\n",
    "fig.show()"
   ]
  },
  {
   "cell_type": "markdown",
   "id": "b7981ffe-ae98-41bf-95ca-4b49bf6ffc55",
   "metadata": {},
   "source": [
    "1. **Customer Segment Analysis**: The churn rate varies across different customer segments. The \"Budget Conscious\" segment shows a higher churn rate compared to \"Luxury Spenders\" and \"Tech Savvy\" segments. This suggests that customers in the Budget Conscious segment are more likely to discontinue their services.\n",
    "\n",
    "2. **Customer Lifetime Value (CLV)**: The CLV is relatively stable across the segments, with slight variations. This indicates that while churn rates differ, the overall value derived from customers in each segment remains consistent.\n",
    "\n",
    "3. **Targeted Retention Strategies**: The higher churn rate in the Budget Conscious segment highlights the need for targeted retention strategies, such as personalized offers or loyalty programs, to reduce churn and retain these customers.\n",
    "\n",
    "4. **Luxury Spenders**: The lower churn rate in the Luxury Spenders segment suggests that these customers are more loyal and less likely to switch. This segment should be prioritized for premium services and upselling opportunities.\n",
    "\n",
    "5. **Tech Savvy Segment**: The Tech Savvy segment shows a moderate churn rate, indicating a balanced approach is needed. Engaging this segment with innovative digital solutions and tech-driven offers could help maintain their loyalty."
   ]
  },
  {
   "cell_type": "code",
   "execution_count": null,
   "id": "ac7c856f-509b-4dd0-a702-bbe2369725cf",
   "metadata": {},
   "outputs": [],
   "source": [
    "# Churn Rate by Channel and Campaign\n",
    "fig = px.bar(churn_by_channel_campaign, y='channel_name', x='churn_rate', color='campaign_name', \n",
    "             title='Churn Rate by Channel and Campaign',\n",
    "             labels={'churn_rate': 'Churn Rate', 'channel_name': 'Channel Name', 'campaign_name': 'Campaign Name'},\n",
    "             orientation='h')\n",
    "fig.update_traces(width=0.5)\n",
    "\n",
    "# Improve layout\n",
    "fig.update_layout(\n",
    "    yaxis_title='Channel Name',\n",
    "    xaxis_title='Churn Rate',\n",
    "    legend_title='Campaign Name',\n",
    "    bargap=0.2,\n",
    "    bargroupgap=0.1\n",
    ")\n",
    "fig.show()"
   ]
  },
  {
   "cell_type": "code",
   "execution_count": null,
   "id": "12f4d996-90ed-401e-8ba3-46a091590912",
   "metadata": {},
   "outputs": [],
   "source": [
    "import plotly.graph_objects as go\n",
    "from plotly.subplots import make_subplots\n",
    "\n",
    "# Calculate ROI and average CLV for each campaign\n",
    "campaign_metrics = df.groupby('campaign_name').agg({\n",
    "    'ROI': 'mean',\n",
    "    'CLV': 'mean'\n",
    "}).reset_index()\n",
    "\n",
    "# Campaigns by ROI (descending)\n",
    "campaign_metrics = campaign_metrics.sort_values(by='ROI', ascending=False)\n",
    "\n",
    "# Create a dual-axis bar chart\n",
    "fig = make_subplots(specs=[[{\"secondary_y\": True}]])\n",
    "\n",
    "# ROI bars\n",
    "fig.add_trace(\n",
    "    go.Bar(x=campaign_metrics['campaign_name'], y=campaign_metrics['ROI'], name='ROI', marker_color='blue'),\n",
    "    secondary_y=False\n",
    ")\n",
    "\n",
    "# CLV line\n",
    "fig.add_trace(\n",
    "    go.Scatter(x=campaign_metrics['campaign_name'], y=campaign_metrics['CLV'], name='CLV', mode='lines+markers', line=dict(color='red')),\n",
    "    secondary_y=True\n",
    ")\n",
    "\n",
    "# layout\n",
    "fig.update_layout(\n",
    "    title='Campaign Ranking: ROI and CLV',\n",
    "    xaxis_title='Campaign Name',\n",
    "    yaxis_title='ROI',\n",
    "    yaxis2_title='CLV',\n",
    "    template='plotly_white',\n",
    "    hovermode='x unified'\n",
    ")\n",
    "fig.show()"
   ]
  },
  {
   "cell_type": "markdown",
   "id": "841eb279-257b-4746-9d7b-9d65b3a049b1",
   "metadata": {},
   "source": [
    "### **Insights:**\n",
    "\n",
    "1. **Campaign Performance**: The image lists various campaigns, but the ranking based on ROI (Return on Investment) and CLV (Customer Lifetime Value) is not explicitly provided. However, the presence of campaigns like \"Black Friday Bash,\" \"Holiday Cashback Bonanza,\" and \"Luxury Card Exclusive Offer\" suggests that seasonal and premium campaigns tend to perform well due to their high appeal and customer engagement.\n",
    "\n",
    "2. **High-Value Campaigns**: Campaigns targeting specific customer segments, such as \"Young Professional Rewards,\" \"Millennial Money Perks,\" and \"Exclusive Gold Card Deals,\" are likely to resonate well with younger, high-spending demographics. These campaigns should be prioritized due to their potential for high CLV.\n",
    "\n",
    "3. **Niche Campaigns**: Campaigns like \"Petite Business Savings,\" \"Mom & Pop Shop Rewards,\" and \"Small Business Support\" indicate a focus on niche markets. While these may not generate massive revenue, they can build long-term loyalty and brand advocacy.\n",
    "\n",
    "4. **Seasonal Campaigns**: Seasonal campaigns like \"Summer Travel Rewards,\" \"Spring Break Bonanza,\" and \"Holiday Shopping Extravaganza\" are likely to perform well during specific times of the year. These campaigns should be optimized and scaled during their respective seasons.\n",
    "\n",
    "5. **Low-Performing Campaigns**: Campaigns that lack clear targeting or differentiation, such as \"Night Owl Offers\" or \"Weekly Wire Promotion,\" may not be generating significant ROI or CLV. These campaigns should be reviewed for effectiveness.\n",
    "\n",
    "---\n",
    "\n",
    "### **Recommendations:**\n",
    "\n",
    "#### **Campaigns to Discontinue or Revamp:**\n",
    "1. **Night Owl Offers**: Unless there is data showing strong engagement from late-night shoppers, this campaign may not be worth the investment. Consider discontinuing or revamping it with a more targeted approach.\n",
    "   \n",
    "2. **Weekly Wire Promotion**: If this campaign lacks a clear value proposition or fails to drive significant engagement, it should be discontinued or reimagined with a more compelling offer.\n",
    "\n",
    "3. **Thromback Thursday Specials**: The name and concept may not resonate with customers. Consider rebranding or replacing it with a more relevant campaign.\n",
    "\n",
    "4. **Virtual Shopper Bonuses**: If this campaign is not driving significant online sales or engagement, it may need to be revamped with better incentives or targeting.\n",
    "\n",
    "5. **Common Equity Cashback**: This campaign sounds generic and may not stand out. Consider discontinuing it or tailoring it to a specific customer segment.\n",
    "\n",
    "---\n",
    "\n",
    "#### **Campaigns to Market with New Offers:**\n",
    "1. **Luxury Card Exclusive Offer**: This campaign targets high-value customers and should be expanded with additional perks, such as concierge services or exclusive event access.\n",
    "\n",
    "2. **Millennial Money Perks**: Millennials are a key demographic for credit card usage. Introduce new offers like cashback on streaming services, gym memberships, or eco-friendly purchases.\n",
    "\n",
    "3. **Young Professional Rewards**: Tailor this campaign with offers that appeal to young professionals, such as discounts on co-working spaces, travel, or professional development courses.\n",
    "\n",
    "4. **Holiday Cashback Bonanza**: Expand this campaign by offering tiered cashback rewards or bonus points for holiday spending.\n",
    "\n",
    "5. **Streaming Subscriber Savings**: With the rise of digital entertainment, this campaign can be enhanced by partnering with popular streaming platforms for exclusive deals.\n",
    "\n",
    "6. **Small Business Support**: Introduce new offers like cashback on business supplies or discounts on business services to strengthen loyalty among small business owners.\n",
    "\n",
    "---\n",
    "\n",
    "### **Strategic Focus:**\n",
    "- **Data-Driven Optimization**: Use analytics to identify which campaigns are driving the highest ROI and CLV. Focus on scaling these campaigns while discontinuing or revamping underperforming ones.\n",
    "- **Personalization**: Tailor campaigns to specific customer segments (e.g., millennials, luxury spenders, small businesses) to maximize engagement and retention.\n",
    "- **Seasonal and Event-Based Campaigns**: Leverage seasonal opportunities (e.g., holidays, back-to-school, summer travel) to drive short-term spikes in revenue and long-term customer loyalty.\n",
    "\n",
    "By focusing on high-performing campaigns and revamping or discontinuing underperforming ones, you can optimize your marketing efforts and maximize the ROI and CLV of your credit card offerings."
   ]
  },
  {
   "cell_type": "code",
   "execution_count": null,
   "id": "b8b10d1c-e8ca-4657-b1e4-755bce94ae74",
   "metadata": {},
   "outputs": [],
   "source": [
    "import pandas as pd\n",
    "import plotly.figure_factory as ff\n",
    "\n",
    "# Calculate key metrics for each campaign\n",
    "campaign_performance = df.groupby('campaign_name').agg({\n",
    "    'ROI': 'mean',\n",
    "    'CLV': 'mean',\n",
    "    'revenue_generated': 'sum',\n",
    "    'conversions': 'sum',\n",
    "    'spend': 'sum'\n",
    "}).reset_index()\n",
    "\n",
    "# Define high-performing and low-performing campaigns\n",
    "# High-performing: Top 25% by ROI\n",
    "# Low-performing: Bottom 25% by ROI\n",
    "high_performing = campaign_performance[campaign_performance['ROI'] >= campaign_performance['ROI'].quantile(0.75)]\n",
    "low_performing = campaign_performance[campaign_performance['ROI'] <= campaign_performance['ROI'].quantile(0.25)]\n",
    "\n",
    "# Add a column to distinguish high vs. low-performing campaigns\n",
    "high_performing['Performance'] = 'High'\n",
    "low_performing['Performance'] = 'Low'\n",
    "\n",
    "# Combine into one DataFrame\n",
    "performance_comparison = pd.concat([high_performing, low_performing])\n",
    "\n",
    "# Create an interactive table\n",
    "fig = ff.create_table(performance_comparison.sort_values(by='ROI', ascending=False))\n",
    "\n",
    "# Add a title\n",
    "fig.update_layout(\n",
    "    title='Comparison Table: High-Performing vs. Low-Performing Campaigns',\n",
    "    title_x=0.5\n",
    ")\n",
    "\n",
    "# Show the table\n",
    "fig.show()"
   ]
  },
  {
   "cell_type": "code",
   "execution_count": null,
   "id": "ca05691f-5b66-4232-8c09-8696aebef870",
   "metadata": {},
   "outputs": [],
   "source": [
    "import dash\n",
    "import dash_table\n",
    "import pandas as pd\n",
    "from dash import html\n",
    "\n",
    "# Calculate key metrics for each campaign\n",
    "campaign_performance = df.groupby('campaign_name').agg({\n",
    "    'ROI': 'mean',\n",
    "    'CLV': 'mean',\n",
    "    'revenue_generated': 'sum',\n",
    "    'conversions': 'sum',\n",
    "    'spend': 'sum'\n",
    "}).reset_index()\n",
    "\n",
    "# Define high-performing and low-performing campaigns\n",
    "# High-performing: Top 25% by ROI\n",
    "# Low-performing: Bottom 25% by ROI\n",
    "high_performing = campaign_performance[campaign_performance['ROI'] >= campaign_performance['ROI'].quantile(0.75)]\n",
    "low_performing = campaign_performance[campaign_performance['ROI'] <= campaign_performance['ROI'].quantile(0.20)]\n",
    "\n",
    "# Add a column to distinguish high vs. low-performing campaigns\n",
    "high_performing['Performance'] = 'High'\n",
    "low_performing['Performance'] = 'Low'\n",
    "\n",
    "# Combine into one DataFrame\n",
    "performance_comparison = pd.concat([high_performing, low_performing])\n",
    "\n",
    "# Initialize Dash app\n",
    "app = dash.Dash(__name__)\n",
    "\n",
    "# Create a layout with an interactive table\n",
    "app.layout = html.Div([\n",
    "    dash_table.DataTable(\n",
    "        id='comparison-table',\n",
    "        columns=[{\"name\": i, \"id\": i} for i in performance_comparison.columns],\n",
    "        data=performance_comparison.to_dict('records'),\n",
    "        sort_action='native',  # Enable sorting\n",
    "        filter_action='native',  # Enable filtering\n",
    "        style_table={'height': '400px', 'overflowY': 'auto'},\n",
    "        style_cell={'textAlign': 'left', 'padding': '10px'},\n",
    "        style_header={'backgroundColor': 'lightblue', 'fontWeight': 'bold'},\n",
    "        style_data_conditional=[\n",
    "            {\n",
    "                'if': {'filter_query': '{Performance} = \"High\"'},\n",
    "                'backgroundColor': 'lightgreen',\n",
    "                'color': 'black'\n",
    "            },\n",
    "            {\n",
    "                'if': {'filter_query': '{Performance} = \"Low\"'},\n",
    "                'backgroundColor': 'lightcoral',\n",
    "                'color': 'black'\n",
    "            }\n",
    "        ]\n",
    "    )\n",
    "])\n",
    "\n",
    "# Run the app\n",
    "if __name__ == '__main__':\n",
    "    app.run_server(debug=True)"
   ]
  },
  {
   "cell_type": "code",
   "execution_count": null,
   "id": "b7607c58-76b5-4d33-9515-5d610d5aaeb4",
   "metadata": {},
   "outputs": [],
   "source": []
  }
 ],
 "metadata": {
  "kernelspec": {
   "display_name": "Python 3 (ipykernel)",
   "language": "python",
   "name": "python3"
  },
  "language_info": {
   "codemirror_mode": {
    "name": "ipython",
    "version": 3
   },
   "file_extension": ".py",
   "mimetype": "text/x-python",
   "name": "python",
   "nbconvert_exporter": "python",
   "pygments_lexer": "ipython3",
   "version": "3.12.8"
  }
 },
 "nbformat": 4,
 "nbformat_minor": 5
}
